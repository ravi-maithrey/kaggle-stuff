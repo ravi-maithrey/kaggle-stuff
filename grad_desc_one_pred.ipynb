{
 "cells": [
  {
   "cell_type": "code",
   "execution_count": 6,
   "metadata": {},
   "outputs": [
    {
     "name": "stdout",
     "output_type": "stream",
     "text": [
      "      INT_SQFT  SALES_PRICE\n",
      "0         1004      7600000\n",
      "1         1986     21717770\n",
      "2          909     13159200\n",
      "3         1855      9630290\n",
      "4         1226      7406250\n",
      "...        ...          ...\n",
      "5994      1833     21926630\n",
      "5995      1057     10186950\n",
      "5996       871      6491375\n",
      "5997       844      7676730\n",
      "5998      1741     20560910\n",
      "\n",
      "[5999 rows x 2 columns]\n",
      "10000000\n",
      "12274350\n"
     ]
    },
    {
     "name": "stderr",
     "output_type": "stream",
     "text": [
      "/home/ravi/anaconda3/lib/python3.8/site-packages/sklearn/utils/validation.py:67: FutureWarning: Pass fit_intercept=<function h at 0x7fa2a1631940>, normalize=[14465005 12274350  8634640 ... 13703500  8840950  7210000], copy_X=[14465005 12274350  8634640 ... 13703500  8840950  7210000] as keyword args. From version 0.25 passing these as positional arguments will result in an error\n",
      "  warnings.warn(\"Pass {} as keyword args. From version 0.25 \"\n"
     ]
    }
   ],
   "source": [
    "import pandas\n",
    "df = pandas.read_csv(\"house.csv\")\n",
    "print(df)\n",
    "\n",
    "import numpy as np\n",
    "import matplotlib.pyplot as plt\n",
    "import pandas as pd\n",
    "# Importing the dataset\n",
    "dataset = pd.read_csv(\"house.csv\")\n",
    "x = dataset.iloc[:, 1].values #get a copy of dataset exclude last column\n",
    "y = dataset.iloc[:, 1].values #get array of dataset in column 1st\n",
    "\n",
    "from sklearn.model_selection import train_test_split \n",
    "X_train, X_test, y_train, y_test = train_test_split(x, y, test_size=1/3, random_state=0)\n",
    "\n",
    "alpha = 0.3\n",
    "theta0 = 1\n",
    "theta1 = 1\n",
    "J = []\n",
    "theta0_arr = []\n",
    "theta1_arr = []\n",
    "\n",
    "def h(x):\n",
    "    return theta0 + theta1*x\n",
    "\n",
    "def J(theta0, theta1):\n",
    "    for i in range(x):\n",
    "        j.append((1/2*m)*sum((h(x[i])-y[i])**2))\n",
    "\n",
    "def LinearRegression(h, x, y):\n",
    "    for i in range(x):\n",
    "        J(theta0, theta1)\n",
    "        theta0_arr.append(theta0)\n",
    "        theta1_arr.append(theta1)\n",
    "        temp = theta0 - alpha*(1/m)*(sum(h(x[i])-y[i]))\n",
    "        theta1 = theta1 - alpha*(1/m)*(sum(h(x[i])-y[i])*x[i])\n",
    "        theta0 = temp\n",
    "    smallest_J_pos = J.index(J.min())\n",
    "    return theta0[smallest_J_pos], theta1[smallest_J_pos]\n",
    "    \n",
    "\n",
    "from sklearn.linear_model import LinearRegression\n",
    "regre = LinearRegression(h, X_train, y_train)\n",
    "#regre.fit(X_train, y_train)\n",
    "\n",
    "'''# Visualizing the Training set results\n",
    "import matplotlib.pyplot as plt\n",
    "viz_train = plt\n",
    "viz_train.scatter(X_train, y_train, color='red')\n",
    "viz_train.plot(X_train, regre.predict(X_train), color='blue')\n",
    "viz_train.title('Home cost prediction')\n",
    "viz_train.xlabel('sq feet')\n",
    "viz_train.ylabel('cost')\n",
    "viz_train.show()\n",
    "\n",
    "# Visualizing the Test set results\n",
    "import matplotlib.pyplot as plt\n",
    "viz_test = plt\n",
    "viz_test.scatter(X_test, y_test, color='red')\n",
    "viz_test.plot(X_train, regre.predict(X_train), color='blue')\n",
    "viz_test.title('Home cost prediction')\n",
    "viz_test.xlabel('sq feet')\n",
    "viz_test.ylabel('cost')\n",
    "viz_test.show()\n",
    "\n",
    "# Predicting the Test set results\n",
    "y_pred = regre.predict(X_test)\n",
    "print(y_pred)'''\n",
    "\n",
    "prize = X_train[1]\n",
    "x=10000000\n",
    "def f():\n",
    "    if prize>x:\n",
    "        return prize \n",
    "print(x)\n",
    "print(f())"
   ]
  },
  {
   "cell_type": "code",
   "execution_count": null,
   "metadata": {},
   "outputs": [],
   "source": []
  }
 ],
 "metadata": {
  "kernelspec": {
   "display_name": "Python 3",
   "language": "python",
   "name": "python3"
  },
  "language_info": {
   "codemirror_mode": {
    "name": "ipython",
    "version": 3
   },
   "file_extension": ".py",
   "mimetype": "text/x-python",
   "name": "python",
   "nbconvert_exporter": "python",
   "pygments_lexer": "ipython3",
   "version": "3.8.5"
  }
 },
 "nbformat": 4,
 "nbformat_minor": 4
}
