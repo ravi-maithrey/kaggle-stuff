{
 "cells": [
  {
   "cell_type": "code",
   "execution_count": 1,
   "id": "interim-programmer",
   "metadata": {},
   "outputs": [
    {
     "ename": "NameError",
     "evalue": "name 'RNN' is not defined",
     "output_type": "error",
     "traceback": [
      "\u001b[0;31m---------------------------------------------------------------------------\u001b[0m",
      "\u001b[0;31mNameError\u001b[0m                                 Traceback (most recent call last)",
      "\u001b[0;32m<ipython-input-1-032a58534a5a>\u001b[0m in \u001b[0;36m<module>\u001b[0;34m\u001b[0m\n\u001b[1;32m      1\u001b[0m \u001b[0;31m#a basic RNN as a pseudocode\u001b[0m\u001b[0;34m\u001b[0m\u001b[0;34m\u001b[0m\u001b[0;34m\u001b[0m\u001b[0m\n\u001b[1;32m      2\u001b[0m \u001b[0;32mimport\u001b[0m \u001b[0mtensorflow\u001b[0m \u001b[0;32mas\u001b[0m \u001b[0mtf\u001b[0m\u001b[0;34m\u001b[0m\u001b[0;34m\u001b[0m\u001b[0m\n\u001b[0;32m----> 3\u001b[0;31m \u001b[0mmy_rnn\u001b[0m \u001b[0;34m=\u001b[0m \u001b[0mRNN\u001b[0m\u001b[0;34m(\u001b[0m\u001b[0;34m)\u001b[0m\u001b[0;34m\u001b[0m\u001b[0;34m\u001b[0m\u001b[0m\n\u001b[0m\u001b[1;32m      4\u001b[0m \u001b[0mhidden_state\u001b[0m \u001b[0;34m=\u001b[0m \u001b[0;34m[\u001b[0m\u001b[0;36m0\u001b[0m\u001b[0;34m,\u001b[0m \u001b[0;36m0\u001b[0m\u001b[0;34m,\u001b[0m \u001b[0;36m0\u001b[0m\u001b[0;34m,\u001b[0m \u001b[0;36m0\u001b[0m\u001b[0;34m]\u001b[0m\u001b[0;34m\u001b[0m\u001b[0;34m\u001b[0m\u001b[0m\n\u001b[1;32m      5\u001b[0m \u001b[0;34m\u001b[0m\u001b[0m\n",
      "\u001b[0;31mNameError\u001b[0m: name 'RNN' is not defined"
     ]
    }
   ],
   "source": [
    "#a basic RNN as a pseudocode\n",
    "import tensorflow as tf\n",
    "my_rnn = RNN()\n",
    "hidden_state = [0, 0, 0, 0]\n",
    "\n",
    "sentence = ['i', 'am', 'learning', 'stuff']\n",
    "\n",
    "for word in sentence:\n",
    "    prediction, hidden_state = my_rnn(word, hidden_state)\n",
    "    \n",
    "next_word_prediction = prediction"
   ]
  },
  {
   "cell_type": "code",
   "execution_count": 3,
   "id": "whole-stone",
   "metadata": {},
   "outputs": [],
   "source": [
    "class myRNNCell(tf.keras.layers.Layer):\n",
    "    def __init__(self, rnn_units, input_dim, output_dim):\n",
    "        super(myRNNCell, self).__init__()\n",
    "        \n",
    "        #initialise weight matrices\n",
    "        self.W_xh = self.add_weight([rnn_units, input_dim])\n",
    "        self.W_hh = self.add_weight([rnn_units, rnn_units])\n",
    "        self.W_hy = self.add_weight([output_dim, rnn_units])\n",
    "        \n",
    "        #initialise hidden state to zero\n",
    "        self.h = tf.zeros([rnn_units, 1])\n",
    "    \n",
    "    def call(self, x):\n",
    "        #update hidden state\n",
    "        self.h = tf.math.tanh(self.W_hh * self.h + self.W_xh * x)\n",
    "        \n",
    "        #compute output\n",
    "        output = self.W_hy * self.h\n",
    "        \n",
    "        #return current output and cell state\n",
    "        return output, self.h"
   ]
  },
  {
   "cell_type": "code",
   "execution_count": 4,
   "id": "sharing-newman",
   "metadata": {},
   "outputs": [
    {
     "ename": "NameError",
     "evalue": "name 'rnn_units' is not defined",
     "output_type": "error",
     "traceback": [
      "\u001b[0;31m---------------------------------------------------------------------------\u001b[0m",
      "\u001b[0;31mNameError\u001b[0m                                 Traceback (most recent call last)",
      "\u001b[0;32m<ipython-input-4-a8e5f790db1d>\u001b[0m in \u001b[0;36m<module>\u001b[0;34m\u001b[0m\n\u001b[1;32m      1\u001b[0m \u001b[0;31m#the same can be done as below\u001b[0m\u001b[0;34m\u001b[0m\u001b[0;34m\u001b[0m\u001b[0;34m\u001b[0m\u001b[0m\n\u001b[0;32m----> 2\u001b[0;31m \u001b[0mtf\u001b[0m\u001b[0;34m.\u001b[0m\u001b[0mkeras\u001b[0m\u001b[0;34m.\u001b[0m\u001b[0mlayers\u001b[0m\u001b[0;34m.\u001b[0m\u001b[0mSimpleRNN\u001b[0m\u001b[0;34m(\u001b[0m\u001b[0mrnn_units\u001b[0m\u001b[0;34m)\u001b[0m\u001b[0;34m\u001b[0m\u001b[0;34m\u001b[0m\u001b[0m\n\u001b[0m",
      "\u001b[0;31mNameError\u001b[0m: name 'rnn_units' is not defined"
     ]
    }
   ],
   "source": [
    "#the same can be done as below\n",
    "tf.keras.layers.SimpleRNN(rnn_units)"
   ]
  },
  {
   "cell_type": "code",
   "execution_count": null,
   "id": "severe-advice",
   "metadata": {},
   "outputs": [],
   "source": []
  }
 ],
 "metadata": {
  "kernelspec": {
   "display_name": "Python 3",
   "language": "python",
   "name": "python3"
  },
  "language_info": {
   "codemirror_mode": {
    "name": "ipython",
    "version": 3
   },
   "file_extension": ".py",
   "mimetype": "text/x-python",
   "name": "python",
   "nbconvert_exporter": "python",
   "pygments_lexer": "ipython3",
   "version": "3.8.8"
  }
 },
 "nbformat": 4,
 "nbformat_minor": 5
}
